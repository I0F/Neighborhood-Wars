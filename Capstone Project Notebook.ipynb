{
 "cells": [
  {
   "cell_type": "markdown",
   "metadata": {},
   "source": [
    "<h1>Applied Data Science Capstone<h1>"
   ]
  },
  {
   "cell_type": "markdown",
   "metadata": {},
   "source": [
    "_This notebook will be used mainly for the applied data science capstone project thats part of the <b>IBM Data Science Professional Certificate</b> course._\n",
    "\n",
    "\n",
    "\n"
   ]
  },
  {
   "cell_type": "markdown",
   "metadata": {},
   "source": [
    "<h2>1. Introduction</h2>"
   ]
  },
  {
   "cell_type": "markdown",
   "metadata": {},
   "source": [
    "This project is about helping several stakeholders decide where it is the most optimal place to open a 24 hours highly sophisticated gym in Toronto. Given that Toronto is the most populous city in Canada and one of the highest ranked cities in the world on health and high quality of living, opening a gym there is an easy decision for an investment group. With that said we first need to explore the current gym market in the city and decide where it will be the smartest location to open a gym to maximize the profits.\n",
    "\n",
    "The investors are interested in neighborhoods that meet the following criteria:\n",
    "\n",
    "- The neighborhood should have average or above average population\n",
    "- Since it is a 24 hours gym a higher percentage of people younger than 45 is preferred\n",
    "- Since it is a highly sophisticated gym, the membership will be higher so the household incomes in that area should be average or above average.\n",
    "\n",
    "With the data gathered by the explorations for this criteria, the goal is to find and recommend the optimal areas to the investors to open their gym. They will use this data to find places to buy or rent for their business. \n",
    "\n",
    "Also this information can be shared with other investors that are looking to open a new gym or a recreational center."
   ]
  },
  {
   "cell_type": "markdown",
   "metadata": {},
   "source": [
    "<h2>2. Data</h2>"
   ]
  },
  {
   "cell_type": "markdown",
   "metadata": {},
   "source": [
    "<h3>2.1 Data Description</h3>"
   ]
  },
  {
   "cell_type": "markdown",
   "metadata": {},
   "source": [
    "The data for the needs of this project will come from the following sources:\n",
    "- City of Toronto Neighborhoods:\n",
    "https://en.wikipedia.org/w/index.php?title=List_of_postal_codes_of_Canada:_M&oldid=945633050\n",
    "- City of Toronto Neighborhoods demographics data:\n",
    "https://en.wikipedia.org/wiki/Demographics_of_Toronto_neighbourhoods\n",
    "- Foursquare API to collect information on other gyms and competitors in Toronto"
   ]
  },
  {
   "cell_type": "markdown",
   "metadata": {},
   "source": [
    "<h3>2.2 Data Preparation</h3>"
   ]
  },
  {
   "cell_type": "markdown",
   "metadata": {},
   "source": [
    "First let's import the libraries that will be used"
   ]
  },
  {
   "cell_type": "code",
   "execution_count": 1,
   "metadata": {},
   "outputs": [],
   "source": [
    "\n",
    "import pandas as pd\n",
    "import numpy as np\n",
    "import lxml\n",
    "\n",
    "#!pip install geopy\n",
    "from geopy.geocoders import Nominatim # convert an address into latitude and longitude values\n",
    "\n",
    "#!pip install requests\n",
    "import requests \n",
    "from pandas.io.json import json_normalize # tranform JSON file into a pandas dataframe"
   ]
  },
  {
   "cell_type": "markdown",
   "metadata": {},
   "source": [
    "Now let's load the coordinates of the city's boroughs into a pandas dataframe"
   ]
  },
  {
   "cell_type": "code",
   "execution_count": 77,
   "metadata": {},
   "outputs": [
    {
     "data": {
      "text/html": "<div>\n<style scoped>\n    .dataframe tbody tr th:only-of-type {\n        vertical-align: middle;\n    }\n\n    .dataframe tbody tr th {\n        vertical-align: top;\n    }\n\n    .dataframe thead th {\n        text-align: right;\n    }\n</style>\n<table border=\"1\" class=\"dataframe\">\n  <thead>\n    <tr style=\"text-align: right;\">\n      <th></th>\n      <th>index</th>\n      <th>PostalCode</th>\n      <th>Borough</th>\n      <th>Neighborhood</th>\n      <th>Latitude</th>\n      <th>Longitude</th>\n    </tr>\n  </thead>\n  <tbody>\n    <tr>\n      <th>0</th>\n      <td>2</td>\n      <td>M3A</td>\n      <td>North York</td>\n      <td>Parkwoods</td>\n      <td>43.753259</td>\n      <td>-79.329656</td>\n    </tr>\n    <tr>\n      <th>1</th>\n      <td>3</td>\n      <td>M4A</td>\n      <td>North York</td>\n      <td>Victoria Village</td>\n      <td>43.725882</td>\n      <td>-79.315572</td>\n    </tr>\n    <tr>\n      <th>2</th>\n      <td>4</td>\n      <td>M5A</td>\n      <td>Downtown Toronto</td>\n      <td>Harbourfront</td>\n      <td>43.654260</td>\n      <td>-79.360636</td>\n    </tr>\n    <tr>\n      <th>3</th>\n      <td>5</td>\n      <td>M6A</td>\n      <td>North York</td>\n      <td>Lawrence Heights</td>\n      <td>43.718518</td>\n      <td>-79.464763</td>\n    </tr>\n    <tr>\n      <th>4</th>\n      <td>6</td>\n      <td>M6A</td>\n      <td>North York</td>\n      <td>Lawrence Manor</td>\n      <td>43.718518</td>\n      <td>-79.464763</td>\n    </tr>\n  </tbody>\n</table>\n</div>",
      "text/plain": "   index PostalCode           Borough      Neighborhood   Latitude  Longitude\n0      2        M3A        North York         Parkwoods  43.753259 -79.329656\n1      3        M4A        North York  Victoria Village  43.725882 -79.315572\n2      4        M5A  Downtown Toronto      Harbourfront  43.654260 -79.360636\n3      5        M6A        North York  Lawrence Heights  43.718518 -79.464763\n4      6        M6A        North York    Lawrence Manor  43.718518 -79.464763"
     },
     "execution_count": 77,
     "metadata": {},
     "output_type": "execute_result"
    }
   ],
   "source": [
    "url = \"https://en.wikipedia.org/w/index.php?title=List_of_postal_codes_of_Canada:_M&oldid=945633050\"\n",
    "data = pd.read_html(url, header=0)\n",
    "df = data[0]\n",
    "\n",
    "#rename the columns\n",
    "df.rename(columns={'Postcode':'PostalCode','Neighbourhood':'Neighborhood'},inplace=True)\n",
    "\n",
    "#delete the rows with unassigned Borough\n",
    "df=df[df['Borough']!='Not assigned']\n",
    "df=df[df['Neighborhood']!='Not assigned']\n",
    "\n",
    "#df=df.groupby(['PostalCode', 'Borough']).agg({'Neighborhood' : ','.join})\n",
    "\n",
    "#We can see that Neighborhood has become the index of the dataframe, so we need to reset it for the next operations\n",
    "df.reset_index(inplace=True)\n",
    "\n",
    "#Next we replace the neighborhoods with unassigned values with the name of the borough as per assignment\n",
    "#df['Neighborhood'][df['Neighborhood']=='Not assigned']=df['Borough'][df['Neighborhood']=='Not assigned']\n",
    "\n",
    "coords = pd.read_csv('https://cocl.us/Geospatial_data')\n",
    "\n",
    "coords.rename(columns={'Postal Code':'PostalCode'},inplace=True)\n",
    "\n",
    "df1 = pd.merge(df, coords, left_on=  ['PostalCode'],\n",
    "            right_on= ['PostalCode'], \n",
    "            how = 'left')\n",
    "            \n",
    "df1.head()"
   ]
  },
  {
   "cell_type": "markdown",
   "metadata": {},
   "source": [
    "Now let's load the demographics for the city.\n",
    "We will only need the Name of the neighborhood, Population, Population Density and the Average Income data columns."
   ]
  },
  {
   "cell_type": "code",
   "execution_count": 78,
   "metadata": {},
   "outputs": [
    {
     "data": {
      "text/html": "<div>\n<style scoped>\n    .dataframe tbody tr th:only-of-type {\n        vertical-align: middle;\n    }\n\n    .dataframe tbody tr th {\n        vertical-align: top;\n    }\n\n    .dataframe thead th {\n        text-align: right;\n    }\n</style>\n<table border=\"1\" class=\"dataframe\">\n  <thead>\n    <tr style=\"text-align: right;\">\n      <th></th>\n      <th>Name</th>\n      <th>Population</th>\n      <th>Density (people/km2)</th>\n      <th>Average Income</th>\n    </tr>\n  </thead>\n  <tbody>\n    <tr>\n      <th>0</th>\n      <td>Toronto CMA Average</td>\n      <td>5113149</td>\n      <td>866</td>\n      <td>40704</td>\n    </tr>\n    <tr>\n      <th>1</th>\n      <td>Agincourt</td>\n      <td>44577</td>\n      <td>3580</td>\n      <td>25750</td>\n    </tr>\n    <tr>\n      <th>2</th>\n      <td>Alderwood</td>\n      <td>11656</td>\n      <td>2360</td>\n      <td>35239</td>\n    </tr>\n    <tr>\n      <th>3</th>\n      <td>Alexandra Park</td>\n      <td>4355</td>\n      <td>13609</td>\n      <td>19687</td>\n    </tr>\n    <tr>\n      <th>4</th>\n      <td>Allenby</td>\n      <td>2513</td>\n      <td>4333</td>\n      <td>245592</td>\n    </tr>\n    <tr>\n      <th>5</th>\n      <td>Amesbury</td>\n      <td>17318</td>\n      <td>4934</td>\n      <td>27546</td>\n    </tr>\n    <tr>\n      <th>6</th>\n      <td>Armour Heights</td>\n      <td>4384</td>\n      <td>1914</td>\n      <td>116651</td>\n    </tr>\n    <tr>\n      <th>7</th>\n      <td>Banbury</td>\n      <td>6641</td>\n      <td>2442</td>\n      <td>92319</td>\n    </tr>\n    <tr>\n      <th>8</th>\n      <td>Bathurst Manor</td>\n      <td>14945</td>\n      <td>3187</td>\n      <td>34169</td>\n    </tr>\n    <tr>\n      <th>9</th>\n      <td>Bay Street Corridor</td>\n      <td>4787</td>\n      <td>43518</td>\n      <td>40598</td>\n    </tr>\n  </tbody>\n</table>\n</div>",
      "text/plain": "                  Name  Population  Density (people/km2)  Average Income\n0  Toronto CMA Average     5113149                   866           40704\n1            Agincourt       44577                  3580           25750\n2            Alderwood       11656                  2360           35239\n3       Alexandra Park        4355                 13609           19687\n4              Allenby        2513                  4333          245592\n5             Amesbury       17318                  4934           27546\n6       Armour Heights        4384                  1914          116651\n7              Banbury        6641                  2442           92319\n8       Bathurst Manor       14945                  3187           34169\n9  Bay Street Corridor        4787                 43518           40598"
     },
     "execution_count": 78,
     "metadata": {},
     "output_type": "execute_result"
    }
   ],
   "source": [
    "url = \"https://en.wikipedia.org/wiki/Demographics_of_Toronto_neighbourhoods\"\n",
    "data = pd.read_html(url, header=0)\n",
    "df_n = data[1][['Name','Population','Density (people/km2)','Average Income']]\n",
    "df_n.head(10)"
   ]
  },
  {
   "cell_type": "markdown",
   "metadata": {},
   "source": [
    "Now let's merge the location dataframe with the demographics dataframe"
   ]
  },
  {
   "cell_type": "code",
   "execution_count": 79,
   "metadata": {},
   "outputs": [
    {
     "data": {
      "text/html": "<div>\n<style scoped>\n    .dataframe tbody tr th:only-of-type {\n        vertical-align: middle;\n    }\n\n    .dataframe tbody tr th {\n        vertical-align: top;\n    }\n\n    .dataframe thead th {\n        text-align: right;\n    }\n</style>\n<table border=\"1\" class=\"dataframe\">\n  <thead>\n    <tr style=\"text-align: right;\">\n      <th></th>\n      <th>index</th>\n      <th>PostalCode</th>\n      <th>Borough</th>\n      <th>Neighborhood</th>\n      <th>Latitude</th>\n      <th>Longitude</th>\n      <th>Name</th>\n      <th>Population</th>\n      <th>Density (people/km2)</th>\n      <th>Average Income</th>\n    </tr>\n  </thead>\n  <tbody>\n    <tr>\n      <th>0</th>\n      <td>2</td>\n      <td>M3A</td>\n      <td>North York</td>\n      <td>Parkwoods</td>\n      <td>43.753259</td>\n      <td>-79.329656</td>\n      <td>Parkwoods</td>\n      <td>26533.0</td>\n      <td>5349.0</td>\n      <td>34811.0</td>\n    </tr>\n    <tr>\n      <th>1</th>\n      <td>3</td>\n      <td>M4A</td>\n      <td>North York</td>\n      <td>Victoria Village</td>\n      <td>43.725882</td>\n      <td>-79.315572</td>\n      <td>Victoria Village</td>\n      <td>17047.0</td>\n      <td>3612.0</td>\n      <td>29657.0</td>\n    </tr>\n    <tr>\n      <th>2</th>\n      <td>4</td>\n      <td>M5A</td>\n      <td>Downtown Toronto</td>\n      <td>Harbourfront</td>\n      <td>43.654260</td>\n      <td>-79.360636</td>\n      <td>NaN</td>\n      <td>NaN</td>\n      <td>NaN</td>\n      <td>NaN</td>\n    </tr>\n    <tr>\n      <th>3</th>\n      <td>5</td>\n      <td>M6A</td>\n      <td>North York</td>\n      <td>Lawrence Heights</td>\n      <td>43.718518</td>\n      <td>-79.464763</td>\n      <td>Lawrence Heights</td>\n      <td>3769.0</td>\n      <td>1178.0</td>\n      <td>29867.0</td>\n    </tr>\n    <tr>\n      <th>4</th>\n      <td>6</td>\n      <td>M6A</td>\n      <td>North York</td>\n      <td>Lawrence Manor</td>\n      <td>43.718518</td>\n      <td>-79.464763</td>\n      <td>Lawrence Manor</td>\n      <td>13750.0</td>\n      <td>6425.0</td>\n      <td>36361.0</td>\n    </tr>\n  </tbody>\n</table>\n</div>",
      "text/plain": "   index PostalCode           Borough      Neighborhood   Latitude  Longitude  \\\n0      2        M3A        North York         Parkwoods  43.753259 -79.329656   \n1      3        M4A        North York  Victoria Village  43.725882 -79.315572   \n2      4        M5A  Downtown Toronto      Harbourfront  43.654260 -79.360636   \n3      5        M6A        North York  Lawrence Heights  43.718518 -79.464763   \n4      6        M6A        North York    Lawrence Manor  43.718518 -79.464763   \n\n               Name  Population  Density (people/km2)  Average Income  \n0         Parkwoods     26533.0                5349.0         34811.0  \n1  Victoria Village     17047.0                3612.0         29657.0  \n2               NaN         NaN                   NaN             NaN  \n3  Lawrence Heights      3769.0                1178.0         29867.0  \n4    Lawrence Manor     13750.0                6425.0         36361.0  "
     },
     "execution_count": 79,
     "metadata": {},
     "output_type": "execute_result"
    }
   ],
   "source": [
    "#merge the dataframes\n",
    "df_f=pd.merge(df1, df_n, left_on=  ['Neighborhood'],\n",
    "            right_on= ['Name'], \n",
    "            how = 'left')\n",
    "df_f.head()       "
   ]
  },
  {
   "cell_type": "markdown",
   "metadata": {},
   "source": [
    "Now let's clean up the data. Delete unnecessary columns and rename some columns."
   ]
  },
  {
   "cell_type": "code",
   "execution_count": 80,
   "metadata": {},
   "outputs": [
    {
     "data": {
      "text/html": "<div>\n<style scoped>\n    .dataframe tbody tr th:only-of-type {\n        vertical-align: middle;\n    }\n\n    .dataframe tbody tr th {\n        vertical-align: top;\n    }\n\n    .dataframe thead th {\n        text-align: right;\n    }\n</style>\n<table border=\"1\" class=\"dataframe\">\n  <thead>\n    <tr style=\"text-align: right;\">\n      <th></th>\n      <th>index</th>\n      <th>Borough</th>\n      <th>Neighborhood</th>\n      <th>Latitude</th>\n      <th>Longitude</th>\n      <th>Population</th>\n      <th>Population Density</th>\n      <th>Average Income</th>\n    </tr>\n  </thead>\n  <tbody>\n    <tr>\n      <th>0</th>\n      <td>2</td>\n      <td>North York</td>\n      <td>Parkwoods</td>\n      <td>43.753259</td>\n      <td>-79.329656</td>\n      <td>26533.0</td>\n      <td>5349.0</td>\n      <td>34811.0</td>\n    </tr>\n    <tr>\n      <th>1</th>\n      <td>3</td>\n      <td>North York</td>\n      <td>Victoria Village</td>\n      <td>43.725882</td>\n      <td>-79.315572</td>\n      <td>17047.0</td>\n      <td>3612.0</td>\n      <td>29657.0</td>\n    </tr>\n    <tr>\n      <th>2</th>\n      <td>4</td>\n      <td>Downtown Toronto</td>\n      <td>Harbourfront</td>\n      <td>43.654260</td>\n      <td>-79.360636</td>\n      <td>NaN</td>\n      <td>NaN</td>\n      <td>NaN</td>\n    </tr>\n    <tr>\n      <th>3</th>\n      <td>5</td>\n      <td>North York</td>\n      <td>Lawrence Heights</td>\n      <td>43.718518</td>\n      <td>-79.464763</td>\n      <td>3769.0</td>\n      <td>1178.0</td>\n      <td>29867.0</td>\n    </tr>\n    <tr>\n      <th>4</th>\n      <td>6</td>\n      <td>North York</td>\n      <td>Lawrence Manor</td>\n      <td>43.718518</td>\n      <td>-79.464763</td>\n      <td>13750.0</td>\n      <td>6425.0</td>\n      <td>36361.0</td>\n    </tr>\n  </tbody>\n</table>\n</div>",
      "text/plain": "   index           Borough      Neighborhood   Latitude  Longitude  \\\n0      2        North York         Parkwoods  43.753259 -79.329656   \n1      3        North York  Victoria Village  43.725882 -79.315572   \n2      4  Downtown Toronto      Harbourfront  43.654260 -79.360636   \n3      5        North York  Lawrence Heights  43.718518 -79.464763   \n4      6        North York    Lawrence Manor  43.718518 -79.464763   \n\n   Population  Population Density  Average Income  \n0     26533.0              5349.0         34811.0  \n1     17047.0              3612.0         29657.0  \n2         NaN                 NaN             NaN  \n3      3769.0              1178.0         29867.0  \n4     13750.0              6425.0         36361.0  "
     },
     "execution_count": 80,
     "metadata": {},
     "output_type": "execute_result"
    }
   ],
   "source": [
    "#delete unnecessary columns\n",
    "df_f.drop(['Name','PostalCode'],axis=1,inplace=True)\n",
    "\n",
    "#rename \n",
    "df_f.rename(columns={'Density (people/km2)':'Population Density'},inplace=True)\n",
    "df_f.head()"
   ]
  },
  {
   "cell_type": "markdown",
   "metadata": {},
   "source": [
    "Now let's get the coordinates of Toronto"
   ]
  },
  {
   "cell_type": "code",
   "execution_count": 73,
   "metadata": {},
   "outputs": [
    {
     "name": "stdout",
     "output_type": "stream",
     "text": "The geograpical coordinate of Toronto are 43.653963, -79.387207.\n"
    }
   ],
   "source": [
    "geolocator = Nominatim(user_agent=\"ny_explorer\")\n",
    "location = geolocator.geocode('Toronto, Canada')\n",
    "latitude = location.latitude\n",
    "longitude = location.longitude\n",
    "print('The geograpical coordinate of Toronto are {}, {}.'.format(latitude, longitude))"
   ]
  },
  {
   "cell_type": "markdown",
   "metadata": {},
   "source": [
    "Set up the Foursquare API"
   ]
  },
  {
   "cell_type": "code",
   "execution_count": 16,
   "metadata": {},
   "outputs": [
    {
     "name": "stdout",
     "output_type": "stream",
     "text": "Your credentails:\nCLIENT_ID: \nCLIENT_SECRET:\n"
    }
   ],
   "source": [
    "CLIENT_ID = '' # your Foursquare ID\n",
    "CLIENT_SECRET = '' # your Foursquare Secret\n",
    "VERSION = '20180605' # Foursquare API version\n",
    "\n",
    "print('Your credentails:')\n",
    "print('CLIENT_ID: ' + CLIENT_ID)\n",
    "print('CLIENT_SECRET:' + CLIENT_SECRET)"
   ]
  },
  {
   "cell_type": "markdown",
   "metadata": {},
   "source": [
    "Method to get all the nearby venues"
   ]
  },
  {
   "cell_type": "code",
   "execution_count": 17,
   "metadata": {},
   "outputs": [],
   "source": [
    "def getNearbyVenues(names, latitudes, longitudes, radius=500):\n",
    "    \n",
    "    venues_list=[]\n",
    "    for name, lat, lng in zip(names, latitudes, longitudes):\n",
    "        print(name)\n",
    "            \n",
    "        # create the API request URL\n",
    "        url = 'https://api.foursquare.com/v2/venues/explore?&client_id={}&client_secret={}&v={}&ll={},{}&radius={}&limit={}'.format(\n",
    "            CLIENT_ID, \n",
    "            CLIENT_SECRET, \n",
    "            VERSION, \n",
    "            lat, \n",
    "            lng, \n",
    "            radius, \n",
    "            LIMIT)\n",
    "            \n",
    "        # make the GET request\n",
    "        results = requests.get(url).json()[\"response\"]['groups'][0]['items']\n",
    "        \n",
    "        # return only relevant information for each nearby venue\n",
    "        venues_list.append([(\n",
    "            name, \n",
    "            lat, \n",
    "            lng, \n",
    "            v['venue']['name'], \n",
    "            v['venue']['location']['lat'], \n",
    "            v['venue']['location']['lng'],  \n",
    "            v['venue']['categories'][0]['name']) for v in results])\n",
    "\n",
    "    nearby_venues = pd.DataFrame([item for venue_list in venues_list for item in venue_list])\n",
    "    nearby_venues.columns = ['Neighborhood', \n",
    "                  'Neighborhood Latitude', \n",
    "                  'Neighborhood Longitude', \n",
    "                  'Venue', \n",
    "                  'Venue Latitude', \n",
    "                  'Venue Longitude', \n",
    "                  'Venue Category']\n",
    "    \n",
    "    return(nearby_venues)"
   ]
  },
  {
   "cell_type": "markdown",
   "metadata": {},
   "source": [
    "Now let's get all nearby venues for each neighborhood"
   ]
  },
  {
   "cell_type": "code",
   "execution_count": 18,
   "metadata": {},
   "outputs": [
    {
     "name": "stdout",
     "output_type": "stream",
     "text": "Parkwoods\nVictoria Village\nLawrence Heights\nLawrence Manor\nRouge\nMalvern\nGarden District\nPrincess Gardens\nWest Deane Park\nHighland Creek\nRouge Hill\nPort Union\nFlemingdon Park\nSt. James Town\nEringate\nMarkland Wood\nGuildwood\nMorningside\nWest Hill\nThe Beaches\nWoburn\nLeaside\nBathurst Manor\nWilson Heights\nThorncliffe Park\nScarborough Village\nHenry Farm\nToronto Islands\nLittle Portugal\nIonview\nBayview Village\nRiverdale\nBrockton\nClairlea\nOakridge\nYork Mills\nDownsview\nHumber Summit\nCliffcrest\nCliffside\nNewtonbrook\nWillowdale\nBedford Park\nMount Dennis\nSilverthorn\nHumberlea\nBirch Cliff\nLawrence Park\nRunnymede\nWeston\n"
    }
   ],
   "source": [
    "LIMIT = 100\n",
    "toronto_venues = getNearbyVenues(names=df_f['Neighborhood'],\n",
    "                                   latitudes=df_f['Latitude'],\n",
    "                                   longitudes=df_f['Longitude']\n",
    "                                  )"
   ]
  },
  {
   "cell_type": "markdown",
   "metadata": {},
   "source": [
    "Let's examine the shape of the venues dataframe "
   ]
  },
  {
   "cell_type": "code",
   "execution_count": 19,
   "metadata": {},
   "outputs": [
    {
     "name": "stdout",
     "output_type": "stream",
     "text": "(1639, 7)\n"
    },
    {
     "data": {
      "text/html": "<div>\n<style scoped>\n    .dataframe tbody tr th:only-of-type {\n        vertical-align: middle;\n    }\n\n    .dataframe tbody tr th {\n        vertical-align: top;\n    }\n\n    .dataframe thead th {\n        text-align: right;\n    }\n</style>\n<table border=\"1\" class=\"dataframe\">\n  <thead>\n    <tr style=\"text-align: right;\">\n      <th></th>\n      <th>Neighborhood</th>\n      <th>Neighborhood Latitude</th>\n      <th>Neighborhood Longitude</th>\n      <th>Venue</th>\n      <th>Venue Latitude</th>\n      <th>Venue Longitude</th>\n      <th>Venue Category</th>\n    </tr>\n  </thead>\n  <tbody>\n    <tr>\n      <th>0</th>\n      <td>Parkwoods</td>\n      <td>43.753259</td>\n      <td>-79.329656</td>\n      <td>Allwyn's Bakery</td>\n      <td>43.759840</td>\n      <td>-79.324719</td>\n      <td>Caribbean Restaurant</td>\n    </tr>\n    <tr>\n      <th>1</th>\n      <td>Parkwoods</td>\n      <td>43.753259</td>\n      <td>-79.329656</td>\n      <td>Brookbanks Park</td>\n      <td>43.751976</td>\n      <td>-79.332140</td>\n      <td>Park</td>\n    </tr>\n    <tr>\n      <th>2</th>\n      <td>Parkwoods</td>\n      <td>43.753259</td>\n      <td>-79.329656</td>\n      <td>Tim Hortons</td>\n      <td>43.760668</td>\n      <td>-79.326368</td>\n      <td>Café</td>\n    </tr>\n    <tr>\n      <th>3</th>\n      <td>Parkwoods</td>\n      <td>43.753259</td>\n      <td>-79.329656</td>\n      <td>A&amp;W</td>\n      <td>43.760643</td>\n      <td>-79.326865</td>\n      <td>Fast Food Restaurant</td>\n    </tr>\n    <tr>\n      <th>4</th>\n      <td>Parkwoods</td>\n      <td>43.753259</td>\n      <td>-79.329656</td>\n      <td>Bruno's valu-mart</td>\n      <td>43.746143</td>\n      <td>-79.324630</td>\n      <td>Grocery Store</td>\n    </tr>\n  </tbody>\n</table>\n</div>",
      "text/plain": "  Neighborhood  Neighborhood Latitude  Neighborhood Longitude  \\\n0    Parkwoods              43.753259              -79.329656   \n1    Parkwoods              43.753259              -79.329656   \n2    Parkwoods              43.753259              -79.329656   \n3    Parkwoods              43.753259              -79.329656   \n4    Parkwoods              43.753259              -79.329656   \n\n               Venue  Venue Latitude  Venue Longitude        Venue Category  \n0    Allwyn's Bakery       43.759840       -79.324719  Caribbean Restaurant  \n1    Brookbanks Park       43.751976       -79.332140                  Park  \n2        Tim Hortons       43.760668       -79.326368                  Café  \n3                A&W       43.760643       -79.326865  Fast Food Restaurant  \n4  Bruno's valu-mart       43.746143       -79.324630         Grocery Store  "
     },
     "execution_count": 19,
     "metadata": {},
     "output_type": "execute_result"
    }
   ],
   "source": [
    "print(toronto_venues.shape)\n",
    "toronto_venues.head()"
   ]
  },
  {
   "cell_type": "code",
   "execution_count": 21,
   "metadata": {},
   "outputs": [
    {
     "data": {
      "text/html": "<div>\n<style scoped>\n    .dataframe tbody tr th:only-of-type {\n        vertical-align: middle;\n    }\n\n    .dataframe tbody tr th {\n        vertical-align: top;\n    }\n\n    .dataframe thead th {\n        text-align: right;\n    }\n</style>\n<table border=\"1\" class=\"dataframe\">\n  <thead>\n    <tr style=\"text-align: right;\">\n      <th></th>\n      <th>Neighborhood Latitude</th>\n      <th>Neighborhood Longitude</th>\n      <th>Venue</th>\n      <th>Venue Latitude</th>\n      <th>Venue Longitude</th>\n      <th>Venue Category</th>\n    </tr>\n    <tr>\n      <th>Neighborhood</th>\n      <th></th>\n      <th></th>\n      <th></th>\n      <th></th>\n      <th></th>\n      <th></th>\n    </tr>\n  </thead>\n  <tbody>\n    <tr>\n      <th>Bathurst Manor</th>\n      <td>28</td>\n      <td>28</td>\n      <td>28</td>\n      <td>28</td>\n      <td>28</td>\n      <td>28</td>\n    </tr>\n    <tr>\n      <th>Bayview Village</th>\n      <td>14</td>\n      <td>14</td>\n      <td>14</td>\n      <td>14</td>\n      <td>14</td>\n      <td>14</td>\n    </tr>\n    <tr>\n      <th>Bedford Park</th>\n      <td>41</td>\n      <td>41</td>\n      <td>41</td>\n      <td>41</td>\n      <td>41</td>\n      <td>41</td>\n    </tr>\n    <tr>\n      <th>Birch Cliff</th>\n      <td>11</td>\n      <td>11</td>\n      <td>11</td>\n      <td>11</td>\n      <td>11</td>\n      <td>11</td>\n    </tr>\n    <tr>\n      <th>Brockton</th>\n      <td>100</td>\n      <td>100</td>\n      <td>100</td>\n      <td>100</td>\n      <td>100</td>\n      <td>100</td>\n    </tr>\n    <tr>\n      <th>Clairlea</th>\n      <td>27</td>\n      <td>27</td>\n      <td>27</td>\n      <td>27</td>\n      <td>27</td>\n      <td>27</td>\n    </tr>\n    <tr>\n      <th>Cliffcrest</th>\n      <td>12</td>\n      <td>12</td>\n      <td>12</td>\n      <td>12</td>\n      <td>12</td>\n      <td>12</td>\n    </tr>\n    <tr>\n      <th>Cliffside</th>\n      <td>12</td>\n      <td>12</td>\n      <td>12</td>\n      <td>12</td>\n      <td>12</td>\n      <td>12</td>\n    </tr>\n    <tr>\n      <th>Downsview</th>\n      <td>11</td>\n      <td>11</td>\n      <td>11</td>\n      <td>11</td>\n      <td>11</td>\n      <td>11</td>\n    </tr>\n    <tr>\n      <th>Eringate</th>\n      <td>19</td>\n      <td>19</td>\n      <td>19</td>\n      <td>19</td>\n      <td>19</td>\n      <td>19</td>\n    </tr>\n    <tr>\n      <th>Flemingdon Park</th>\n      <td>45</td>\n      <td>45</td>\n      <td>45</td>\n      <td>45</td>\n      <td>45</td>\n      <td>45</td>\n    </tr>\n    <tr>\n      <th>Garden District</th>\n      <td>100</td>\n      <td>100</td>\n      <td>100</td>\n      <td>100</td>\n      <td>100</td>\n      <td>100</td>\n    </tr>\n    <tr>\n      <th>Guildwood</th>\n      <td>25</td>\n      <td>25</td>\n      <td>25</td>\n      <td>25</td>\n      <td>25</td>\n      <td>25</td>\n    </tr>\n    <tr>\n      <th>Henry Farm</th>\n      <td>44</td>\n      <td>44</td>\n      <td>44</td>\n      <td>44</td>\n      <td>44</td>\n      <td>44</td>\n    </tr>\n    <tr>\n      <th>Highland Creek</th>\n      <td>5</td>\n      <td>5</td>\n      <td>5</td>\n      <td>5</td>\n      <td>5</td>\n      <td>5</td>\n    </tr>\n    <tr>\n      <th>Humber Summit</th>\n      <td>10</td>\n      <td>10</td>\n      <td>10</td>\n      <td>10</td>\n      <td>10</td>\n      <td>10</td>\n    </tr>\n    <tr>\n      <th>Humberlea</th>\n      <td>8</td>\n      <td>8</td>\n      <td>8</td>\n      <td>8</td>\n      <td>8</td>\n      <td>8</td>\n    </tr>\n    <tr>\n      <th>Ionview</th>\n      <td>26</td>\n      <td>26</td>\n      <td>26</td>\n      <td>26</td>\n      <td>26</td>\n      <td>26</td>\n    </tr>\n    <tr>\n      <th>Lawrence Heights</th>\n      <td>46</td>\n      <td>46</td>\n      <td>46</td>\n      <td>46</td>\n      <td>46</td>\n      <td>46</td>\n    </tr>\n    <tr>\n      <th>Lawrence Manor</th>\n      <td>46</td>\n      <td>46</td>\n      <td>46</td>\n      <td>46</td>\n      <td>46</td>\n      <td>46</td>\n    </tr>\n    <tr>\n      <th>Lawrence Park</th>\n      <td>9</td>\n      <td>9</td>\n      <td>9</td>\n      <td>9</td>\n      <td>9</td>\n      <td>9</td>\n    </tr>\n    <tr>\n      <th>Leaside</th>\n      <td>63</td>\n      <td>63</td>\n      <td>63</td>\n      <td>63</td>\n      <td>63</td>\n      <td>63</td>\n    </tr>\n    <tr>\n      <th>Little Portugal</th>\n      <td>100</td>\n      <td>100</td>\n      <td>100</td>\n      <td>100</td>\n      <td>100</td>\n      <td>100</td>\n    </tr>\n    <tr>\n      <th>Malvern</th>\n      <td>20</td>\n      <td>20</td>\n      <td>20</td>\n      <td>20</td>\n      <td>20</td>\n      <td>20</td>\n    </tr>\n    <tr>\n      <th>Markland Wood</th>\n      <td>19</td>\n      <td>19</td>\n      <td>19</td>\n      <td>19</td>\n      <td>19</td>\n      <td>19</td>\n    </tr>\n    <tr>\n      <th>Morningside</th>\n      <td>25</td>\n      <td>25</td>\n      <td>25</td>\n      <td>25</td>\n      <td>25</td>\n      <td>25</td>\n    </tr>\n    <tr>\n      <th>Mount Dennis</th>\n      <td>12</td>\n      <td>12</td>\n      <td>12</td>\n      <td>12</td>\n      <td>12</td>\n      <td>12</td>\n    </tr>\n    <tr>\n      <th>Newtonbrook</th>\n      <td>28</td>\n      <td>28</td>\n      <td>28</td>\n      <td>28</td>\n      <td>28</td>\n      <td>28</td>\n    </tr>\n    <tr>\n      <th>Oakridge</th>\n      <td>27</td>\n      <td>27</td>\n      <td>27</td>\n      <td>27</td>\n      <td>27</td>\n      <td>27</td>\n    </tr>\n    <tr>\n      <th>Parkwoods</th>\n      <td>29</td>\n      <td>29</td>\n      <td>29</td>\n      <td>29</td>\n      <td>29</td>\n      <td>29</td>\n    </tr>\n    <tr>\n      <th>Port Union</th>\n      <td>5</td>\n      <td>5</td>\n      <td>5</td>\n      <td>5</td>\n      <td>5</td>\n      <td>5</td>\n    </tr>\n    <tr>\n      <th>Princess Gardens</th>\n      <td>16</td>\n      <td>16</td>\n      <td>16</td>\n      <td>16</td>\n      <td>16</td>\n      <td>16</td>\n    </tr>\n    <tr>\n      <th>Riverdale</th>\n      <td>100</td>\n      <td>100</td>\n      <td>100</td>\n      <td>100</td>\n      <td>100</td>\n      <td>100</td>\n    </tr>\n    <tr>\n      <th>Rouge</th>\n      <td>20</td>\n      <td>20</td>\n      <td>20</td>\n      <td>20</td>\n      <td>20</td>\n      <td>20</td>\n    </tr>\n    <tr>\n      <th>Rouge Hill</th>\n      <td>5</td>\n      <td>5</td>\n      <td>5</td>\n      <td>5</td>\n      <td>5</td>\n      <td>5</td>\n    </tr>\n    <tr>\n      <th>Runnymede</th>\n      <td>44</td>\n      <td>44</td>\n      <td>44</td>\n      <td>44</td>\n      <td>44</td>\n      <td>44</td>\n    </tr>\n    <tr>\n      <th>Scarborough Village</th>\n      <td>12</td>\n      <td>12</td>\n      <td>12</td>\n      <td>12</td>\n      <td>12</td>\n      <td>12</td>\n    </tr>\n    <tr>\n      <th>Silverthorn</th>\n      <td>12</td>\n      <td>12</td>\n      <td>12</td>\n      <td>12</td>\n      <td>12</td>\n      <td>12</td>\n    </tr>\n    <tr>\n      <th>St. James Town</th>\n      <td>100</td>\n      <td>100</td>\n      <td>100</td>\n      <td>100</td>\n      <td>100</td>\n      <td>100</td>\n    </tr>\n    <tr>\n      <th>The Beaches</th>\n      <td>81</td>\n      <td>81</td>\n      <td>81</td>\n      <td>81</td>\n      <td>81</td>\n      <td>81</td>\n    </tr>\n    <tr>\n      <th>Thorncliffe Park</th>\n      <td>46</td>\n      <td>46</td>\n      <td>46</td>\n      <td>46</td>\n      <td>46</td>\n      <td>46</td>\n    </tr>\n    <tr>\n      <th>Toronto Islands</th>\n      <td>100</td>\n      <td>100</td>\n      <td>100</td>\n      <td>100</td>\n      <td>100</td>\n      <td>100</td>\n    </tr>\n    <tr>\n      <th>Victoria Village</th>\n      <td>11</td>\n      <td>11</td>\n      <td>11</td>\n      <td>11</td>\n      <td>11</td>\n      <td>11</td>\n    </tr>\n    <tr>\n      <th>West Deane Park</th>\n      <td>16</td>\n      <td>16</td>\n      <td>16</td>\n      <td>16</td>\n      <td>16</td>\n      <td>16</td>\n    </tr>\n    <tr>\n      <th>West Hill</th>\n      <td>25</td>\n      <td>25</td>\n      <td>25</td>\n      <td>25</td>\n      <td>25</td>\n      <td>25</td>\n    </tr>\n    <tr>\n      <th>Weston</th>\n      <td>16</td>\n      <td>16</td>\n      <td>16</td>\n      <td>16</td>\n      <td>16</td>\n      <td>16</td>\n    </tr>\n    <tr>\n      <th>Willowdale</th>\n      <td>28</td>\n      <td>28</td>\n      <td>28</td>\n      <td>28</td>\n      <td>28</td>\n      <td>28</td>\n    </tr>\n    <tr>\n      <th>Wilson Heights</th>\n      <td>28</td>\n      <td>28</td>\n      <td>28</td>\n      <td>28</td>\n      <td>28</td>\n      <td>28</td>\n    </tr>\n    <tr>\n      <th>Woburn</th>\n      <td>8</td>\n      <td>8</td>\n      <td>8</td>\n      <td>8</td>\n      <td>8</td>\n      <td>8</td>\n    </tr>\n    <tr>\n      <th>York Mills</th>\n      <td>4</td>\n      <td>4</td>\n      <td>4</td>\n      <td>4</td>\n      <td>4</td>\n      <td>4</td>\n    </tr>\n  </tbody>\n</table>\n</div>",
      "text/plain": "                     Neighborhood Latitude  Neighborhood Longitude  Venue  \\\nNeighborhood                                                                \nBathurst Manor                          28                      28     28   \nBayview Village                         14                      14     14   \nBedford Park                            41                      41     41   \nBirch Cliff                             11                      11     11   \nBrockton                               100                     100    100   \nClairlea                                27                      27     27   \nCliffcrest                              12                      12     12   \nCliffside                               12                      12     12   \nDownsview                               11                      11     11   \nEringate                                19                      19     19   \nFlemingdon Park                         45                      45     45   \nGarden District                        100                     100    100   \nGuildwood                               25                      25     25   \nHenry Farm                              44                      44     44   \nHighland Creek                           5                       5      5   \nHumber Summit                           10                      10     10   \nHumberlea                                8                       8      8   \nIonview                                 26                      26     26   \nLawrence Heights                        46                      46     46   \nLawrence Manor                          46                      46     46   \nLawrence Park                            9                       9      9   \nLeaside                                 63                      63     63   \nLittle Portugal                        100                     100    100   \nMalvern                                 20                      20     20   \nMarkland Wood                           19                      19     19   \nMorningside                             25                      25     25   \nMount Dennis                            12                      12     12   \nNewtonbrook                             28                      28     28   \nOakridge                                27                      27     27   \nParkwoods                               29                      29     29   \nPort Union                               5                       5      5   \nPrincess Gardens                        16                      16     16   \nRiverdale                              100                     100    100   \nRouge                                   20                      20     20   \nRouge Hill                               5                       5      5   \nRunnymede                               44                      44     44   \nScarborough Village                     12                      12     12   \nSilverthorn                             12                      12     12   \nSt. James Town                         100                     100    100   \nThe Beaches                             81                      81     81   \nThorncliffe Park                        46                      46     46   \nToronto Islands                        100                     100    100   \nVictoria Village                        11                      11     11   \nWest Deane Park                         16                      16     16   \nWest Hill                               25                      25     25   \nWeston                                  16                      16     16   \nWillowdale                              28                      28     28   \nWilson Heights                          28                      28     28   \nWoburn                                   8                       8      8   \nYork Mills                               4                       4      4   \n\n                     Venue Latitude  Venue Longitude  Venue Category  \nNeighborhood                                                          \nBathurst Manor                   28               28              28  \nBayview Village                  14               14              14  \nBedford Park                     41               41              41  \nBirch Cliff                      11               11              11  \nBrockton                        100              100             100  \nClairlea                         27               27              27  \nCliffcrest                       12               12              12  \nCliffside                        12               12              12  \nDownsview                        11               11              11  \nEringate                         19               19              19  \nFlemingdon Park                  45               45              45  \nGarden District                 100              100             100  \nGuildwood                        25               25              25  \nHenry Farm                       44               44              44  \nHighland Creek                    5                5               5  \nHumber Summit                    10               10              10  \nHumberlea                         8                8               8  \nIonview                          26               26              26  \nLawrence Heights                 46               46              46  \nLawrence Manor                   46               46              46  \nLawrence Park                     9                9               9  \nLeaside                          63               63              63  \nLittle Portugal                 100              100             100  \nMalvern                          20               20              20  \nMarkland Wood                    19               19              19  \nMorningside                      25               25              25  \nMount Dennis                     12               12              12  \nNewtonbrook                      28               28              28  \nOakridge                         27               27              27  \nParkwoods                        29               29              29  \nPort Union                        5                5               5  \nPrincess Gardens                 16               16              16  \nRiverdale                       100              100             100  \nRouge                            20               20              20  \nRouge Hill                        5                5               5  \nRunnymede                        44               44              44  \nScarborough Village              12               12              12  \nSilverthorn                      12               12              12  \nSt. James Town                  100              100             100  \nThe Beaches                      81               81              81  \nThorncliffe Park                 46               46              46  \nToronto Islands                 100              100             100  \nVictoria Village                 11               11              11  \nWest Deane Park                  16               16              16  \nWest Hill                        25               25              25  \nWeston                           16               16              16  \nWillowdale                       28               28              28  \nWilson Heights                   28               28              28  \nWoburn                            8                8               8  \nYork Mills                        4                4               4  "
     },
     "execution_count": 21,
     "metadata": {},
     "output_type": "execute_result"
    }
   ],
   "source": [
    "toronto_venues.groupby('Neighborhood').count()"
   ]
  },
  {
   "cell_type": "markdown",
   "metadata": {},
   "source": [
    "Now let's see how many venues are there that have the word Gym or Fitness in their name. We will assume these objects are the competition in the city."
   ]
  },
  {
   "cell_type": "code",
   "execution_count": 22,
   "metadata": {},
   "outputs": [
    {
     "data": {
      "text/plain": "Neighborhood              57\nNeighborhood Latitude     57\nNeighborhood Longitude    57\nVenue                     57\nVenue Latitude            57\nVenue Longitude           57\nVenue Category            57\ndtype: int64"
     },
     "execution_count": 22,
     "metadata": {},
     "output_type": "execute_result"
    }
   ],
   "source": [
    "toronto_venues[(toronto_venues['Venue Category'].str.contains('Gym', regex=False)) |\n",
    "                 (toronto_venues['Venue Category'].str.contains('Fitness', regex=False)) ].count()"
   ]
  },
  {
   "cell_type": "markdown",
   "metadata": {},
   "source": [
    "Now let's make a dataframe that holds count of gyms in each neighborhood "
   ]
  },
  {
   "cell_type": "code",
   "execution_count": 50,
   "metadata": {},
   "outputs": [
    {
     "data": {
      "text/html": "<div>\n<style scoped>\n    .dataframe tbody tr th:only-of-type {\n        vertical-align: middle;\n    }\n\n    .dataframe tbody tr th {\n        vertical-align: top;\n    }\n\n    .dataframe thead th {\n        text-align: right;\n    }\n</style>\n<table border=\"1\" class=\"dataframe\">\n  <thead>\n    <tr style=\"text-align: right;\">\n      <th></th>\n      <th>Number of gyms</th>\n    </tr>\n    <tr>\n      <th>Neighborhood</th>\n      <th></th>\n    </tr>\n  </thead>\n  <tbody>\n    <tr>\n      <th>Birch Cliff</th>\n      <td>2</td>\n    </tr>\n    <tr>\n      <th>Brockton</th>\n      <td>4</td>\n    </tr>\n    <tr>\n      <th>Clairlea</th>\n      <td>1</td>\n    </tr>\n    <tr>\n      <th>Flemingdon Park</th>\n      <td>3</td>\n    </tr>\n    <tr>\n      <th>Garden District</th>\n      <td>2</td>\n    </tr>\n  </tbody>\n</table>\n</div>",
      "text/plain": "                 Number of gyms\nNeighborhood                   \nBirch Cliff                   2\nBrockton                      4\nClairlea                      1\nFlemingdon Park               3\nGarden District               2"
     },
     "execution_count": 50,
     "metadata": {},
     "output_type": "execute_result"
    }
   ],
   "source": [
    "toronto_gyms = toronto_venues[(toronto_venues['Venue Category'].str.contains('Gym', regex=False)) |\n",
    "                 (toronto_venues['Venue Category'].str.contains('Fitness', regex=False))].groupby(['Neighborhood']).count()\n",
    "toronto_gyms.drop(['Neighborhood Latitude', 'Neighborhood Longitude', 'Venue Longitude', 'Venue', 'Venue Latitude'], axis = 1, inplace = True)\n",
    "toronto_gyms.rename(columns = {'Venue Category':'Number of Gyms'}, inplace=True)\n",
    "toronto_gyms.head()"
   ]
  },
  {
   "cell_type": "markdown",
   "metadata": {},
   "source": [
    "Now let's join the gyms data to the demographics dataframe"
   ]
  },
  {
   "cell_type": "code",
   "execution_count": 51,
   "metadata": {},
   "outputs": [],
   "source": [
    "df_f = df_f.join(toronto_gyms, on='Neighborhood')\n",
    "df_f.head()"
   ]
  },
  {
   "cell_type": "code",
   "execution_count": 52,
   "metadata": {},
   "outputs": [
    {
     "data": {
      "text/html": "<div>\n<style scoped>\n    .dataframe tbody tr th:only-of-type {\n        vertical-align: middle;\n    }\n\n    .dataframe tbody tr th {\n        vertical-align: top;\n    }\n\n    .dataframe thead th {\n        text-align: right;\n    }\n</style>\n<table border=\"1\" class=\"dataframe\">\n  <thead>\n    <tr style=\"text-align: right;\">\n      <th></th>\n      <th>index</th>\n      <th>Borough</th>\n      <th>Neighborhood</th>\n      <th>Latitude</th>\n      <th>Longitude</th>\n      <th>Population</th>\n      <th>Population Density</th>\n      <th>Average Income</th>\n      <th>Number of gyms</th>\n    </tr>\n  </thead>\n  <tbody>\n    <tr>\n      <th>0</th>\n      <td>2</td>\n      <td>North York</td>\n      <td>Parkwoods</td>\n      <td>43.753259</td>\n      <td>-79.329656</td>\n      <td>26533.0</td>\n      <td>5349.0</td>\n      <td>34811.0</td>\n      <td>NaN</td>\n    </tr>\n    <tr>\n      <th>1</th>\n      <td>3</td>\n      <td>North York</td>\n      <td>Victoria Village</td>\n      <td>43.725882</td>\n      <td>-79.315572</td>\n      <td>17047.0</td>\n      <td>3612.0</td>\n      <td>29657.0</td>\n      <td>2.0</td>\n    </tr>\n    <tr>\n      <th>3</th>\n      <td>5</td>\n      <td>North York</td>\n      <td>Lawrence Heights</td>\n      <td>43.718518</td>\n      <td>-79.464763</td>\n      <td>3769.0</td>\n      <td>1178.0</td>\n      <td>29867.0</td>\n      <td>2.0</td>\n    </tr>\n    <tr>\n      <th>4</th>\n      <td>6</td>\n      <td>North York</td>\n      <td>Lawrence Manor</td>\n      <td>43.718518</td>\n      <td>-79.464763</td>\n      <td>13750.0</td>\n      <td>6425.0</td>\n      <td>36361.0</td>\n      <td>2.0</td>\n    </tr>\n    <tr>\n      <th>7</th>\n      <td>10</td>\n      <td>Scarborough</td>\n      <td>Rouge</td>\n      <td>43.806686</td>\n      <td>-79.194353</td>\n      <td>22724.0</td>\n      <td>791.0</td>\n      <td>29230.0</td>\n      <td>1.0</td>\n    </tr>\n  </tbody>\n</table>\n</div>",
      "text/plain": "   index      Borough      Neighborhood   Latitude  Longitude  Population  \\\n0      2   North York         Parkwoods  43.753259 -79.329656     26533.0   \n1      3   North York  Victoria Village  43.725882 -79.315572     17047.0   \n3      5   North York  Lawrence Heights  43.718518 -79.464763      3769.0   \n4      6   North York    Lawrence Manor  43.718518 -79.464763     13750.0   \n7     10  Scarborough             Rouge  43.806686 -79.194353     22724.0   \n\n   Population Density  Average Income  Number of gyms  \n0              5349.0         34811.0             NaN  \n1              3612.0         29657.0             2.0  \n3              1178.0         29867.0             2.0  \n4              6425.0         36361.0             2.0  \n7               791.0         29230.0             1.0  "
     },
     "execution_count": 52,
     "metadata": {},
     "output_type": "execute_result"
    }
   ],
   "source": [
    "df_f.head()"
   ]
  },
  {
   "cell_type": "markdown",
   "metadata": {},
   "source": [
    "Fill NaN values with 0"
   ]
  },
  {
   "cell_type": "code",
   "execution_count": 66,
   "metadata": {},
   "outputs": [],
   "source": [
    "df_f = df_f.fillna(0)"
   ]
  },
  {
   "cell_type": "markdown",
   "metadata": {},
   "source": [
    "Examine the final data"
   ]
  },
  {
   "cell_type": "code",
   "execution_count": 67,
   "metadata": {},
   "outputs": [
    {
     "data": {
      "text/html": "<div>\n<style scoped>\n    .dataframe tbody tr th:only-of-type {\n        vertical-align: middle;\n    }\n\n    .dataframe tbody tr th {\n        vertical-align: top;\n    }\n\n    .dataframe thead th {\n        text-align: right;\n    }\n</style>\n<table border=\"1\" class=\"dataframe\">\n  <thead>\n    <tr style=\"text-align: right;\">\n      <th></th>\n      <th>index</th>\n      <th>Borough</th>\n      <th>Neighborhood</th>\n      <th>Latitude</th>\n      <th>Longitude</th>\n      <th>Population</th>\n      <th>Population Density</th>\n      <th>Average Income</th>\n      <th>Number of gyms</th>\n    </tr>\n  </thead>\n  <tbody>\n    <tr>\n      <th>0</th>\n      <td>2</td>\n      <td>North York</td>\n      <td>Parkwoods</td>\n      <td>43.753259</td>\n      <td>-79.329656</td>\n      <td>26533.0</td>\n      <td>5349.0</td>\n      <td>34811.0</td>\n      <td>0.0</td>\n    </tr>\n    <tr>\n      <th>1</th>\n      <td>3</td>\n      <td>North York</td>\n      <td>Victoria Village</td>\n      <td>43.725882</td>\n      <td>-79.315572</td>\n      <td>17047.0</td>\n      <td>3612.0</td>\n      <td>29657.0</td>\n      <td>2.0</td>\n    </tr>\n    <tr>\n      <th>3</th>\n      <td>5</td>\n      <td>North York</td>\n      <td>Lawrence Heights</td>\n      <td>43.718518</td>\n      <td>-79.464763</td>\n      <td>3769.0</td>\n      <td>1178.0</td>\n      <td>29867.0</td>\n      <td>2.0</td>\n    </tr>\n    <tr>\n      <th>4</th>\n      <td>6</td>\n      <td>North York</td>\n      <td>Lawrence Manor</td>\n      <td>43.718518</td>\n      <td>-79.464763</td>\n      <td>13750.0</td>\n      <td>6425.0</td>\n      <td>36361.0</td>\n      <td>2.0</td>\n    </tr>\n    <tr>\n      <th>7</th>\n      <td>10</td>\n      <td>Scarborough</td>\n      <td>Rouge</td>\n      <td>43.806686</td>\n      <td>-79.194353</td>\n      <td>22724.0</td>\n      <td>791.0</td>\n      <td>29230.0</td>\n      <td>1.0</td>\n    </tr>\n  </tbody>\n</table>\n</div>",
      "text/plain": "   index      Borough      Neighborhood   Latitude  Longitude  Population  \\\n0      2   North York         Parkwoods  43.753259 -79.329656     26533.0   \n1      3   North York  Victoria Village  43.725882 -79.315572     17047.0   \n3      5   North York  Lawrence Heights  43.718518 -79.464763      3769.0   \n4      6   North York    Lawrence Manor  43.718518 -79.464763     13750.0   \n7     10  Scarborough             Rouge  43.806686 -79.194353     22724.0   \n\n   Population Density  Average Income  Number of gyms  \n0              5349.0         34811.0             0.0  \n1              3612.0         29657.0             2.0  \n3              1178.0         29867.0             2.0  \n4              6425.0         36361.0             2.0  \n7               791.0         29230.0             1.0  "
     },
     "execution_count": 67,
     "metadata": {},
     "output_type": "execute_result"
    }
   ],
   "source": [
    "df_f.head()"
   ]
  },
  {
   "cell_type": "markdown",
   "metadata": {},
   "source": [
    "With this we are done with the data preparation process"
   ]
  },
  {
   "cell_type": "markdown",
   "metadata": {},
   "source": [
    "<h1>3. Methodology and Analysis </h1>"
   ]
  },
  {
   "cell_type": "code",
   "execution_count": null,
   "metadata": {},
   "outputs": [],
   "source": []
  }
 ],
 "metadata": {
  "kernelspec": {
   "display_name": "Python 3",
   "language": "python",
   "name": "python3"
  },
  "language_info": {
   "codemirror_mode": {
    "name": "ipython",
    "version": 3
   },
   "file_extension": ".py",
   "mimetype": "text/x-python",
   "name": "python",
   "nbconvert_exporter": "python",
   "pygments_lexer": "ipython3",
   "version": "3.7.5-final"
  }
 },
 "nbformat": 4,
 "nbformat_minor": 4
}
