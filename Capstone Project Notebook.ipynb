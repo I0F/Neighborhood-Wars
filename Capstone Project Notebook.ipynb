{
 "cells": [
  {
   "cell_type": "markdown",
   "metadata": {},
   "source": [
    "<h1>Applied Data Science Capstone<h1>"
   ]
  },
  {
   "cell_type": "markdown",
   "metadata": {},
   "source": [
    "_This notebook will be used mainly for the applied data science capstone project thats part of the <b>IBM Data Science Professional Certificate</b> course._\n",
    "\n",
    "\n",
    "\n"
   ]
  },
  {
   "cell_type": "markdown",
   "metadata": {},
   "source": [
    "<h2>1. Introduction</h2>"
   ]
  },
  {
   "cell_type": "markdown",
   "metadata": {},
   "source": [
    "This project is about helping several stakeholders decide where it is the most optimal place to open a 24 hours highly sophisticated gym in Toronto. Given that Toronto is the most populous city in Canada and one of the highest ranked cities in the world on health and high quality of living, opening a gym there is an easy decision for an investment group. With that said we first need to explore the current gym market in the city and decide where it will be the smartest location to open a gym to maximize the profits.\n",
    "\n",
    "The investors are interested in neighborhoods that meet the following criteria:\n",
    "\n",
    "- The neighborhood should have average or above average population\n",
    "- Since it is a 24 hours gym a higher percentage of people younger than 45 is preferred\n",
    "- Since it is a highly sophisticated gym, the membership will be higher so the household incomes in that area should be average or above average.\n",
    "\n",
    "With the data gathered by the explorations for this criteria, the goal is to find and recommend the optimal areas to the investors to open their gym. They will use this data to find places to buy or rent for their business. \n",
    "\n",
    "Also this information can be shared with other investors that are looking to open a new gym or a recreational center."
   ]
  },
  {
   "cell_type": "markdown",
   "metadata": {},
   "source": [
    "<h2>2. Data</h2>"
   ]
  },
  {
   "cell_type": "markdown",
   "metadata": {},
   "source": [
    "The data for the needs of this project will come from the following sources:\n",
    "- City of Toronto Neighborhoods:\n",
    "https://www.toronto.ca/city-government/data-research-maps/neighbourhoods-communities/neighbourhood-profiles/\n",
    "- City of Toronto Open Data Catalogue for the latest (2016) census data\n",
    "https://open.toronto.ca/#8c732154-5012-9afe-d0cd-ba3ffc813d5a\n",
    "- Foursquare API to collect information on other gyms and competitors in Toronto"
   ]
  },
  {
   "cell_type": "code",
   "execution_count": null,
   "metadata": {},
   "outputs": [],
   "source": []
  }
 ],
 "metadata": {
  "kernelspec": {
   "display_name": "Python 3",
   "language": "python",
   "name": "python3"
  },
  "language_info": {
   "codemirror_mode": {
    "name": "ipython",
    "version": 3
   },
   "file_extension": ".py",
   "mimetype": "text/x-python",
   "name": "python",
   "nbconvert_exporter": "python",
   "pygments_lexer": "ipython3",
   "version": "3.7.5-final"
  }
 },
 "nbformat": 4,
 "nbformat_minor": 4
}